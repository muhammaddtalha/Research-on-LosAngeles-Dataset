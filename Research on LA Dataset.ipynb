{
 "cells": [
  {
   "cell_type": "markdown",
   "id": "bbd6d293",
   "metadata": {},
   "source": [
    "## Extra Libraries Needed"
   ]
  },
  {
   "cell_type": "code",
   "execution_count": null,
   "id": "e5d5024a",
   "metadata": {},
   "outputs": [],
   "source": [
    "#!pip install -U dataprep"
   ]
  },
  {
   "cell_type": "markdown",
   "id": "ec229e09",
   "metadata": {},
   "source": [
    "## 1. Loading Libraries"
   ]
  },
  {
   "cell_type": "code",
   "execution_count": null,
   "id": "9f78f4e0",
   "metadata": {},
   "outputs": [],
   "source": [
    "!pip install filename.whl"
   ]
  },
  {
   "cell_type": "code",
   "execution_count": null,
   "id": "0408a649",
   "metadata": {},
   "outputs": [],
   "source": [
    "import geopandas as gpd"
   ]
  },
  {
   "cell_type": "code",
   "execution_count": null,
   "id": "e5abdc0e",
   "metadata": {},
   "outputs": [],
   "source": [
    "import pandas as pd\n",
    "import numpy as np\n",
    "import math\n",
    "import seaborn as sns\n",
    "import matplotlib.pyplot as plt\n",
    "from dataprep.eda import create_report, plot,plot_correlation\n",
    "pd.set_option('display.max_columns', None)\n",
    "pd.set_option('display.max_rows', None)"
   ]
  },
  {
   "cell_type": "markdown",
   "id": "350ade02",
   "metadata": {},
   "source": [
    "## 2. Loading Data"
   ]
  },
  {
   "cell_type": "markdown",
   "id": "78eae1d5",
   "metadata": {},
   "source": [
    "#### 2.1 Loading Crime Datasets"
   ]
  },
  {
   "cell_type": "code",
   "execution_count": null,
   "id": "e28542e0",
   "metadata": {},
   "outputs": [],
   "source": [
    "#df_one = pd.read_csv('Crime_Data_from_2010_to_2019.csv',dtype=str)\n",
    "#df_two = pd.read_csv('Crime_Data_from_2020_to_Present.csv',dtype=str)"
   ]
  },
  {
   "cell_type": "code",
   "execution_count": null,
   "id": "96410754",
   "metadata": {},
   "outputs": [],
   "source": [
    "#Concating Datasets\n",
    "#df_one.columns = df_two.columns\n",
    "#df = pd.concat([df_one, df_two], axis=0,ignore_index =True )\n",
    "#Saving as parquet file\n",
    "#df.to_parquet('merged.parquet')"
   ]
  },
  {
   "cell_type": "markdown",
   "id": "d75e2dea",
   "metadata": {},
   "source": [
    "#### 2.2 Loading Crime dataset as parquet file"
   ]
  },
  {
   "cell_type": "code",
   "execution_count": null,
   "id": "59dff703",
   "metadata": {},
   "outputs": [],
   "source": [
    "df = pd.read_parquet('merged.parquet')"
   ]
  },
  {
   "cell_type": "code",
   "execution_count": null,
   "id": "06886679",
   "metadata": {},
   "outputs": [],
   "source": [
    "df.head()"
   ]
  },
  {
   "cell_type": "markdown",
   "id": "96e7368c",
   "metadata": {},
   "source": [
    "# 3. Explanatory Data Analysis"
   ]
  },
  {
   "cell_type": "markdown",
   "id": "5a95d74e",
   "metadata": {},
   "source": [
    "### 3.1 Preprocessing"
   ]
  },
  {
   "cell_type": "markdown",
   "id": "a8bbbae1",
   "metadata": {},
   "source": [
    "#### 3.1.1 Renaming Columns"
   ]
  },
  {
   "cell_type": "code",
   "execution_count": null,
   "id": "fb419fcc",
   "metadata": {},
   "outputs": [],
   "source": [
    "df.columns = ['DR_NO', 'Crime Date Reported', 'Crime Date Occured', 'Crime Time Occured', 'Crime Area Code', 'Crime Area Name',\n",
    "       'Crime Reported Reported Dist No', 'Part 1-2', 'Crime Code', 'Crime Code Desc', 'Mocodes',\n",
    "       'Victim Age', 'Victim Gender', 'Victim Descent', 'Premis Code', 'Premis Desc',\n",
    "       'Weapon Used Code', 'Weapon Desc', 'Status', 'Status Desc', 'Crime Code 1',\n",
    "       'Crime Code 2', 'Crime Code 3', 'Crime Code 4', 'Crime Location', 'Cross Street', 'LAT',\n",
    "       'LON']"
   ]
  },
  {
   "cell_type": "markdown",
   "id": "73be24e9",
   "metadata": {},
   "source": [
    "#### 3.1.2 Dropping Unused Columns"
   ]
  },
  {
   "cell_type": "code",
   "execution_count": null,
   "id": "6238875f",
   "metadata": {},
   "outputs": [],
   "source": [
    "df.drop(['DR_NO','Part 1-2'], axis = 1, inplace = True)"
   ]
  },
  {
   "cell_type": "markdown",
   "id": "390b7f29",
   "metadata": {},
   "source": [
    "#### 3.1.3 Checking Datatypes"
   ]
  },
  {
   "cell_type": "code",
   "execution_count": null,
   "id": "da29ec08",
   "metadata": {},
   "outputs": [],
   "source": [
    "df.dtypes"
   ]
  },
  {
   "cell_type": "markdown",
   "id": "8f96ed61",
   "metadata": {},
   "source": [
    "#### 3.1.4 Setting DataTypes According to data"
   ]
  },
  {
   "cell_type": "markdown",
   "id": "7e20562b",
   "metadata": {},
   "source": [
    "#### 3.1.4.A Converting Dates to DateTime object"
   ]
  },
  {
   "cell_type": "code",
   "execution_count": null,
   "id": "bb256dc2",
   "metadata": {},
   "outputs": [],
   "source": [
    "#converting date time column from series to datetime data type\n",
    "df['Crime Date Reported'] = pd.to_datetime(df['Crime Date Reported'],errors='coerce')\n",
    "df['Crime Date Occured'] = pd.to_datetime(df['Crime Date Occured'],errors='coerce')\n",
    "#df['Crime Time Occured'] = pd.to_datetime(df['Crime Time Occured'],format= '%H%M',errors='coerce')"
   ]
  },
  {
   "cell_type": "markdown",
   "id": "63850df3",
   "metadata": {},
   "source": [
    "#### 3.1.4.B Converting Area to Category object"
   ]
  },
  {
   "cell_type": "code",
   "execution_count": null,
   "id": "c4b770a8",
   "metadata": {},
   "outputs": [],
   "source": [
    "df['Crime Area Code'] = df['Crime Area Code'].astype('category')\n",
    "df['Crime Area Name'] = df['Crime Area Name'].astype('category')\n",
    "df['Crime Reported Reported Dist No'] = df['Crime Reported Reported Dist No'].astype('category')"
   ]
  },
  {
   "cell_type": "markdown",
   "id": "ca88fa97",
   "metadata": {},
   "source": [
    "#### 3.1.4.C Converting Crime Codes to respective datatype"
   ]
  },
  {
   "cell_type": "code",
   "execution_count": null,
   "id": "8518e6b0",
   "metadata": {},
   "outputs": [],
   "source": [
    "df['Crime Code'] = df['Crime Code'].astype('int64')\n",
    "df['Crime Code Desc'] = df['Crime Code Desc'].astype('category')\n",
    "df['Mocodes'] = df['Mocodes'].astype('category')\n",
    "df['Crime Code 1'].fillna(value=np.nan,inplace =True)\n",
    "df['Crime Code 2'].fillna(value=np.nan,inplace =True)\n",
    "df['Crime Code 3'].fillna(value=np.nan,inplace =True)\n",
    "df['Crime Code 4'].fillna(value=np.nan,inplace =True)\n",
    "df['Crime Code 1'] = df['Crime Code 1'].astype('float64')\n",
    "df['Crime Code 2'] = df['Crime Code 2'].astype('float64')\n",
    "df['Crime Code 3'] = df['Crime Code 3'].astype('float64')\n",
    "df['Crime Code 4'] = df['Crime Code 4'].astype('float64') "
   ]
  },
  {
   "cell_type": "markdown",
   "id": "e2738323",
   "metadata": {},
   "source": [
    "#### 3.1.4.D Converting Victim Information Features Datatypes"
   ]
  },
  {
   "cell_type": "code",
   "execution_count": null,
   "id": "e87fcd44",
   "metadata": {},
   "outputs": [],
   "source": [
    "df['Victim Age'] = df['Victim Age'].apply(lambda x: int(x))\n",
    "df['Victim Gender'] = df['Victim Gender'].astype('category')\n",
    "df['Victim Descent'] = df['Victim Descent'].astype('category')"
   ]
  },
  {
   "cell_type": "markdown",
   "id": "4b1cd437",
   "metadata": {},
   "source": [
    "#### 3.1.4.E Converting Premis Information Features Datatypes"
   ]
  },
  {
   "cell_type": "code",
   "execution_count": null,
   "id": "2e652b56",
   "metadata": {},
   "outputs": [],
   "source": [
    "df['Premis Code'] = df['Premis Code'].astype('category')\n",
    "df['Premis Desc'] = df['Premis Desc'].astype('category')"
   ]
  },
  {
   "cell_type": "markdown",
   "id": "a5a3bea2",
   "metadata": {},
   "source": [
    "#### 3.1.4.F Converting Weapon Information Features Datatypes"
   ]
  },
  {
   "cell_type": "code",
   "execution_count": null,
   "id": "fcad8e89",
   "metadata": {},
   "outputs": [],
   "source": [
    "df['Weapon Used Code'].fillna(value=np.nan,inplace =True)\n",
    "df['Weapon Used Code'] = df['Weapon Used Code'].astype('float64')\n",
    "df['Weapon Desc'] = df['Weapon Desc'].astype('category')"
   ]
  },
  {
   "cell_type": "markdown",
   "id": "2b6fcefd",
   "metadata": {},
   "source": [
    "#### 3.1.4.G Converting Status Features Datatypes"
   ]
  },
  {
   "cell_type": "code",
   "execution_count": null,
   "id": "7514833f",
   "metadata": {},
   "outputs": [],
   "source": [
    "df['Status'] = df['Status'].astype('category')\n",
    "df['Status Desc'] = df['Status Desc'].astype('category')\n",
    "df['Cross Street'] = df['Cross Street'].astype('str')"
   ]
  },
  {
   "cell_type": "markdown",
   "id": "68f0cb8d",
   "metadata": {},
   "source": [
    "## 3.2 Feature Analysis"
   ]
  },
  {
   "cell_type": "markdown",
   "id": "c4c0705b",
   "metadata": {},
   "source": [
    "### 3.2.1 Null Values Analysis"
   ]
  },
  {
   "cell_type": "code",
   "execution_count": null,
   "id": "a570809e",
   "metadata": {},
   "outputs": [],
   "source": [
    "#Percentage of null values in Dataset\n",
    "((df.isna().sum()) / (df.shape[0]))*100"
   ]
  },
  {
   "cell_type": "code",
   "execution_count": null,
   "id": "6e947d1a",
   "metadata": {},
   "outputs": [],
   "source": [
    "print('It can be observed that most of the information is available to do the analysis, however, data cleaning will be performed')"
   ]
  },
  {
   "cell_type": "markdown",
   "id": "84021f42",
   "metadata": {},
   "source": [
    "#### 3.2.2 Correlation matrix of dataset"
   ]
  },
  {
   "cell_type": "code",
   "execution_count": null,
   "id": "22055aec",
   "metadata": {},
   "outputs": [],
   "source": [
    "df.corr()#.to_clipboard(excel=True, sep=None)"
   ]
  },
  {
   "cell_type": "markdown",
   "id": "1e2f5e5f",
   "metadata": {},
   "source": [
    "#### 3.2.4 Feature Distribution"
   ]
  },
  {
   "cell_type": "code",
   "execution_count": null,
   "id": "faa9a790",
   "metadata": {},
   "outputs": [],
   "source": [
    "plot(df)"
   ]
  },
  {
   "cell_type": "markdown",
   "id": "3d8fc4d0",
   "metadata": {},
   "source": [
    "#### 3.2.3 Correlation Plots of dataset"
   ]
  },
  {
   "cell_type": "code",
   "execution_count": null,
   "id": "b5848d2d",
   "metadata": {},
   "outputs": [],
   "source": [
    "sns.pairplot(df)"
   ]
  },
  {
   "cell_type": "markdown",
   "id": "0157648d",
   "metadata": {},
   "source": [
    "## 3.3 Feature Engineering"
   ]
  },
  {
   "cell_type": "markdown",
   "id": "8be7cae0",
   "metadata": {},
   "source": [
    "#### 3.3.1 Extracting Day, Month, Year from Crime 'Reported Date'"
   ]
  },
  {
   "cell_type": "code",
   "execution_count": null,
   "id": "89680d23",
   "metadata": {},
   "outputs": [],
   "source": [
    "#getting crime day\n",
    "df['Crime Reported Day'] = (df['Crime Date Reported'].dt.day).astype(int)\n",
    "#getting crime month\n",
    "df['Crime Reported Month'] = (df['Crime Date Reported'].dt.month).astype(int)\n",
    "#getting crime year\n",
    "df['Crime Reported Year'] = (df['Crime Date Reported'].dt.year).astype(int)"
   ]
  },
  {
   "cell_type": "markdown",
   "id": "6638db27",
   "metadata": {},
   "source": [
    "#### 3.3.2 Extracting Day, Month, Year from Crime 'Date Occured'"
   ]
  },
  {
   "cell_type": "code",
   "execution_count": null,
   "id": "b020bc36",
   "metadata": {},
   "outputs": [],
   "source": [
    "#getting crime occured day\n",
    "df['Crime Occured Day'] = (df['Crime Date Occured'].dt.day).astype(int)\n",
    "#getting crime occured month\n",
    "df['Crime Occured Month'] = (df['Crime Date Occured'].dt.month).astype(int)\n",
    "#getting crime occured year\n",
    "df['Crime Occured Year'] = (df['Crime Date Occured'].dt.year).astype(int)"
   ]
  },
  {
   "cell_type": "markdown",
   "id": "bd249dba",
   "metadata": {},
   "source": [
    "#### 3.3.3 Difference of 'Crime Occured' and 'Crime Reported' (in Days)"
   ]
  },
  {
   "cell_type": "code",
   "execution_count": null,
   "id": "569b7939",
   "metadata": {},
   "outputs": [],
   "source": [
    "#New column is added to see the difference of crime occured and reported in days\n",
    "df['Crime Occured Reported difference (days)'] = (((df['Crime Date Reported']) - (df['Crime Date Occured'])).astype('timedelta64[h]')) / 24"
   ]
  },
  {
   "cell_type": "markdown",
   "id": "94f823d6",
   "metadata": {},
   "source": [
    "#### 3.3.4 Extracting \"Crime Occured Hour\" From \"Crime Occured Time\""
   ]
  },
  {
   "cell_type": "code",
   "execution_count": null,
   "id": "dafc7757",
   "metadata": {},
   "outputs": [],
   "source": [
    "df['Crime Occured Hour'] = df['Crime Time Occured'].apply(lambda x: int(str(x)[:2]))"
   ]
  },
  {
   "cell_type": "markdown",
   "id": "7f32583d",
   "metadata": {},
   "source": [
    "#### 3.3.5 Making Categories of Crime Time "
   ]
  },
  {
   "cell_type": "code",
   "execution_count": null,
   "id": "c351ae09",
   "metadata": {},
   "outputs": [],
   "source": [
    "df['Crime Occured Time Description'] = df['Crime Occured Hour'].apply(lambda x: 'Dawn' if ((x >= 4) & (x < 6)) else \n",
    "                                                                          'Morning' if ((x >= 6) & (x < 11)) else \n",
    "                                                                          'Noon' if ((x >= 11) & (x < 14)) else \n",
    "                                                                          'After Noon' if ((x >= 14) & (x < 17)) else \n",
    "                                                                          'Evening' if ((x >= 17) & (x < 21)) else \n",
    "                                                                          'Night' if ((x >= 21) & (x < 23)) else \n",
    "                                                                          'Mid Night' if ((x >= 23) & (x < 2)) else \n",
    "                                                                          'Late Night')"
   ]
  },
  {
   "cell_type": "code",
   "execution_count": null,
   "id": "800d6ed9",
   "metadata": {},
   "outputs": [],
   "source": [
    "df.dtypes"
   ]
  },
  {
   "cell_type": "markdown",
   "id": "45f783c9",
   "metadata": {},
   "source": [
    "#### 3.3.6 Extracting Information From Victim Age "
   ]
  },
  {
   "cell_type": "code",
   "execution_count": null,
   "id": "1d04afb3",
   "metadata": {},
   "outputs": [],
   "source": [
    "#converting object to int\n",
    "df['Victim Age'] = df['Victim Age'].apply(lambda x: int(x))"
   ]
  },
  {
   "cell_type": "code",
   "execution_count": null,
   "id": "50634508",
   "metadata": {},
   "outputs": [],
   "source": [
    "df.dtypes"
   ]
  },
  {
   "cell_type": "markdown",
   "id": "f8212ea8",
   "metadata": {},
   "source": [
    "#### 3.3.7 Categorizing Victim Age"
   ]
  },
  {
   "cell_type": "code",
   "execution_count": null,
   "id": "ef38a325",
   "metadata": {},
   "outputs": [],
   "source": [
    "#defining age bins for respective ages\n",
    "df['Victim Age Description'] = df['Victim Age'].apply(lambda x: 'Under 18' if ((x >= 1) & (x < 18)) else \n",
    "                                                              'Adult' if ((x >= 18) & (x < 30)) else \n",
    "                                                              \"In 30's\" if ((x >= 30) & (x < 40)) else \n",
    "                                                              \"In 40's\" if ((x >= 40) & (x < 50 )) else\n",
    "                                                              \"In 50's\" if ((x >= 50) & (x < 60 )) else \n",
    "                                                              'Senior Citizen' if ((x > 60))  else \n",
    "                                                              'Not Given')"
   ]
  },
  {
   "cell_type": "markdown",
   "id": "841c9085",
   "metadata": {},
   "source": [
    "## 3.4 Data Cleaning"
   ]
  },
  {
   "cell_type": "markdown",
   "id": "f0a7a2f1",
   "metadata": {},
   "source": [
    "#### 3.4.1 Data Cleaning \"Victim Gender\"  Column"
   ]
  },
  {
   "cell_type": "code",
   "execution_count": null,
   "id": "77ced90b",
   "metadata": {},
   "outputs": [],
   "source": [
    "#Replacing X,H,N,- with Unknown in Victim Gender \n",
    "df['Victim Gender'].replace(['X', 'H','N','-'], 'Unknown',inplace = True)"
   ]
  },
  {
   "cell_type": "markdown",
   "id": "479c1deb",
   "metadata": {},
   "source": [
    "#### 3.4.2 Renaming \"Victim Descent\" Data"
   ]
  },
  {
   "cell_type": "code",
   "execution_count": null,
   "id": "ccb47f21",
   "metadata": {},
   "outputs": [],
   "source": [
    "#Renaming values\n",
    "df['Victim Descent'].replace(['H','W','B','A','O','X',\"K\",'F','C','I','L','P','J','V','U','G','D','S','Z'], ['Hisp|Ltn|Mxcn','White','Black','Other Asian','Other','Unknown','Korea','Filipino','Chinese','AmInd|AlskNtv','Laotian','Islander','Jpn','Vietnam','Unknown','Guaman','Cambod','Samoan','Asn-Indian'],inplace = True)"
   ]
  },
  {
   "cell_type": "code",
   "execution_count": null,
   "id": "cb1ef73f",
   "metadata": {},
   "outputs": [],
   "source": [
    "df.to_parquet('final_p.parquet')"
   ]
  },
  {
   "cell_type": "markdown",
   "id": "d6fddd1a-f588-448a-96ba-93c9934fdb1f",
   "metadata": {},
   "source": [
    "# QUESTIONS"
   ]
  },
  {
   "cell_type": "code",
   "execution_count": null,
   "id": "ba4db00e",
   "metadata": {},
   "outputs": [],
   "source": [
    "df = pd.read_parquet(\"final_p.parquet\")"
   ]
  },
  {
   "cell_type": "markdown",
   "id": "6c079ddb",
   "metadata": {},
   "source": [
    "# Questions 1:"
   ]
  },
  {
   "cell_type": "markdown",
   "id": "d6f7aaab",
   "metadata": {},
   "source": [
    "#### Hypothesis: Child abuse (Physically, mentally, sexually) and child trafficing is increasing all over the world . \n",
    "Child Traffecking reference link: https://www.iom.int/sites/g/files/tmzbdl486/files/our_work/DMM/MAD/A4-Trafficking-External-Brief.pdf <br>\n",
    "LA Reference link: https://www.dailynews.com/2019/10/20/la-police-failed-to-investigate-4000-serious-child-abuse-reports-in-2018-and-2019-why/\n",
    "## Question: What are the trends of child crimes and their reporting time difference in LA. "
   ]
  },
  {
   "cell_type": "code",
   "execution_count": null,
   "id": "51e8f109",
   "metadata": {},
   "outputs": [],
   "source": [
    "plt.figure(figsize=(18,9))\n",
    "sns.countplot(x = 'Victim Gender', hue = 'Victim Age Description', data = df)"
   ]
  },
  {
   "cell_type": "code",
   "execution_count": null,
   "id": "d4c978fe",
   "metadata": {},
   "outputs": [],
   "source": [
    "plt.figure(figsize=(18,9))\n",
    "sns.barplot(x = 'Victim Gender', y = 'Crime Occured Reported difference (days)', hue = 'Victim Age Description',data = df)"
   ]
  },
  {
   "cell_type": "markdown",
   "id": "75a511d7",
   "metadata": {},
   "source": [
    "## Answer\n",
    "##### It has been observed that there are most crimes are being conducted with Male-Female Adults. Crimes with underage people is not in top 4 genders being affected. However, if we analyze the Crime Occured and Crime Reporting time difference. Underage Females Victims are leading the trends. It shows that underage females are reluctent to report the crime. There is possibility that their crime is being reported when their parents know about it and they themselve report it."
   ]
  },
  {
   "cell_type": "markdown",
   "id": "ad48d0ce",
   "metadata": {},
   "source": [
    "# Question 2:"
   ]
  },
  {
   "cell_type": "markdown",
   "id": "11b2ff3a",
   "metadata": {},
   "source": [
    "#### Hypothesis: Voilent crimes are most likely to happen at night.\n",
    "reference link: https://www.securitymagazine.com/articles/90384-murder-robbery-and-driving-while-impaired-happen-at-night\n",
    "#### Question : Does Crimes in LA most happen at night. Further, are females most likely to get affected by crime at night?"
   ]
  },
  {
   "cell_type": "markdown",
   "id": "15d543fa",
   "metadata": {},
   "source": [
    "## Victim's Gender vs Time"
   ]
  },
  {
   "cell_type": "code",
   "execution_count": null,
   "id": "cd3f4a8e",
   "metadata": {},
   "outputs": [],
   "source": [
    "plt.figure(figsize=(18,7))\n",
    "sns.countplot(x = df['Crime Occured Time Description'],hue= df['Victim Gender'],order = df['Crime Occured Time Description'].value_counts().index)"
   ]
  },
  {
   "cell_type": "markdown",
   "id": "081dd573",
   "metadata": {},
   "source": [
    "##### Most crimes are likely to happen at Evening and at Late night, this varifies the constructed hypothesis. However, females are almost equally being affected by crime. Therefore, there is no direct relation of females specifically affected by time in LA."
   ]
  },
  {
   "cell_type": "markdown",
   "id": "1bf7cae7-5f1a-4c8c-b86b-d7894e544ab5",
   "metadata": {},
   "source": [
    "# Question 3"
   ]
  },
  {
   "cell_type": "markdown",
   "id": "b1da223c",
   "metadata": {},
   "source": [
    "### Hypothesis: After COVID-19, there is increase in crime due to daily wagers loosing their jobs because of lockdown. \n",
    "reference link: https://www.dailynews.com/2021/08/22/report-coronavirus-pandemic-key-factor-in-las-spiking-homicide-rate/\n",
    "### Question: Is this hypothesis true for LA?"
   ]
  },
  {
   "cell_type": "code",
   "execution_count": null,
   "id": "83288ca9",
   "metadata": {},
   "outputs": [],
   "source": [
    "df_lockdown = df[df['Crime Date Occured']>'2020-01-01']"
   ]
  },
  {
   "cell_type": "code",
   "execution_count": null,
   "id": "d1d050fa",
   "metadata": {},
   "outputs": [],
   "source": [
    "plot(df_lockdown,'Crime Date Occured')"
   ]
  },
  {
   "cell_type": "markdown",
   "id": "c808fc20",
   "metadata": {},
   "source": [
    "#####  The hypothesis: \"After COVID-19, there is increase in crime due to daily wagers loosing their jobs because of lockdown\" is not true for LA. As there is amlost similar distribution before, during and after lockdown. Therefore constructed hypothesis is false."
   ]
  },
  {
   "cell_type": "markdown",
   "id": "79947170-20f5-4264-877e-3e011167a2ef",
   "metadata": {},
   "source": [
    "# Question 4\n",
    "#### Hypothesis Criminals are likely to commit crimes close to their living place\n",
    "https://core.ac.uk/download/pdf/232845703.pdf\n",
    "#### Question: What is the relationship between Crime places and criminal arrests? "
   ]
  },
  {
   "cell_type": "markdown",
   "id": "3962c53c",
   "metadata": {},
   "source": [
    "# Wordcloud"
   ]
  },
  {
   "cell_type": "code",
   "execution_count": null,
   "id": "80ada723",
   "metadata": {},
   "outputs": [],
   "source": [
    "df['Cross Street'].iloc[:8]"
   ]
  },
  {
   "cell_type": "code",
   "execution_count": null,
   "id": "5fff00bb",
   "metadata": {},
   "outputs": [],
   "source": [
    "# Iterating through the .csv data file \n",
    "data = pd.read_csv('final.csv',encoding =\"latin-1\")"
   ]
  },
  {
   "cell_type": "code",
   "execution_count": null,
   "id": "dd318c10",
   "metadata": {},
   "outputs": [],
   "source": [
    "for i in data.CONTENT: \n",
    "    i = str(i) \n",
    "    separate = i.split() \n",
    "    for j in range(len(separate)): \n",
    "        separate[j] = separate[j].lower() \n",
    "      \n",
    "    comment_words += \" \".join(separate)+\" \""
   ]
  },
  {
   "cell_type": "code",
   "execution_count": null,
   "id": "38cae801",
   "metadata": {},
   "outputs": [],
   "source": [
    "from wordcloud import WordCloud, STOPWORDS\n",
    "data = df['Cross Street'].value_counts().to_dict()\n",
    "wc = WordCloud().generate_from_frequencies(data)\n",
    "\n",
    "plt.imshow(wc)\n",
    "plt.axis('off')\n",
    "plt.show()"
   ]
  },
  {
   "cell_type": "markdown",
   "id": "29ec38c2-2dba-43fc-8155-3de4bfa4ba42",
   "metadata": {},
   "source": [
    "# Question 5\n",
    "#### Hypothesis: Winter stops crime \n",
    "https://www.nbcnews.com/news/us-news/does-cold-stop-crime-it-seems-so-n309856.\n",
    "#### Question: What is the relationship of Winters with the crimes? "
   ]
  },
  {
   "cell_type": "code",
   "execution_count": null,
   "id": "78e1b7df-c3bf-4f88-bf76-f5f06121d8a4",
   "metadata": {},
   "outputs": [],
   "source": [
    "df_lockdown = df[df['Crime Date Occured']>'2020-01-05']\n",
    "plot(df_lockdownTwo,'Crime Date Occured')"
   ]
  },
  {
   "cell_type": "code",
   "execution_count": null,
   "id": "10bed6df",
   "metadata": {},
   "outputs": [],
   "source": [
    "#Ploting Age Description with Gender\n",
    "plt.figure(figsize=(8,4))\n",
    "sns.countplot(x = 'Victim Age Description', hue = 'Victim Gender', data = df,order = df['Victim Age Description'].value_counts().index )"
   ]
  }
 ],
 "metadata": {
  "kernelspec": {
   "display_name": "Python 3",
   "language": "python",
   "name": "python3"
  },
  "language_info": {
   "codemirror_mode": {
    "name": "ipython",
    "version": 3
   },
   "file_extension": ".py",
   "mimetype": "text/x-python",
   "name": "python",
   "nbconvert_exporter": "python",
   "pygments_lexer": "ipython3",
   "version": "3.8.8"
  }
 },
 "nbformat": 4,
 "nbformat_minor": 5
}
